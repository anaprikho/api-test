{
 "cells": [
  {
   "cell_type": "code",
   "execution_count": 10,
   "metadata": {},
   "outputs": [],
   "source": [
    "import numpy as np\n",
    "from scipy import stats\n",
    "import matplotlib.pyplot as plt\n",
    "%matplotlib inline\n",
    "import random\n",
    "from tqdm import tqdm\n",
    "import pandas as pd\n",
    "plt.style.use('ggplot')\n",
    "#from PIL import image"
   ]
  },
  {
   "cell_type": "code",
   "execution_count": null,
   "metadata": {},
   "outputs": [],
   "source": [
    "Image.open('normal_ditribution.svg.png')"
   ]
  },
  {
   "cell_type": "code",
   "execution_count": null,
   "metadata": {},
   "outputs": [],
   "source": [
    "def show_svg(url):\n",
    "    return SVG(url)"
   ]
  },
  {
   "cell_type": "code",
   "execution_count": null,
   "metadata": {},
   "outputs": [],
   "source": [
    "population = stats.norm.rvs(loc = 2, scale = 5, size = 100000)"
   ]
  },
  {
   "cell_type": "code",
   "execution_count": 14,
   "metadata": {},
   "outputs": [],
   "source": [
    "sample = np.random.choice(a = population, size = 100)"
   ]
  },
  {
   "cell_type": "code",
   "execution_count": 15,
   "metadata": {},
   "outputs": [],
   "source": [
    "sample_mean = sample.mean()\n",
    "st_dev = sample.std()"
   ]
  },
  {
   "cell_type": "code",
   "execution_count": 16,
   "metadata": {},
   "outputs": [
    {
     "data": {
      "text/plain": [
       "1.959963984540054"
      ]
     },
     "execution_count": 16,
     "metadata": {},
     "output_type": "execute_result"
    }
   ],
   "source": [
    "z_value = stats.norm.ppf(q = 0.975)\n",
    "z_value"
   ]
  },
  {
   "cell_type": "code",
   "execution_count": 18,
   "metadata": {},
   "outputs": [
    {
     "data": {
      "text/plain": [
       "-1.9599639845400545"
      ]
     },
     "execution_count": 18,
     "metadata": {},
     "output_type": "execute_result"
    }
   ],
   "source": [
    "stats.norm.ppf(q = 0.025)"
   ]
  },
  {
   "cell_type": "code",
   "execution_count": 19,
   "metadata": {},
   "outputs": [
    {
     "data": {
      "text/plain": [
       "(1.2801089158332202, 3.176381894133007)"
      ]
     },
     "execution_count": 19,
     "metadata": {},
     "output_type": "execute_result"
    }
   ],
   "source": [
    "interval = z_value * (st_dev/np.sqrt(sample.size))\n",
    "conf_inv = (sample_mean - interval, sample_mean + interval)\n",
    "conf_inv"
   ]
  },
  {
   "cell_type": "code",
   "execution_count": 26,
   "metadata": {},
   "outputs": [],
   "source": [
    "def compute_ci(sample, st_dev):\n",
    "    z_value = stats.norm.ppf(q = 0.975)\n",
    "    sample_size = len(sample)\n",
    "    interval = z_value * (st_dev/np.sqrt(sample_size))\n",
    "    conf_inv = (sample.mean() + interval, sample.mean() + interval)\n",
    "    \n",
    "    return conf_inv"
   ]
  },
  {
   "cell_type": "code",
   "execution_count": 21,
   "metadata": {},
   "outputs": [],
   "source": [
    "np.random.seed(5)"
   ]
  },
  {
   "cell_type": "code",
   "execution_count": 28,
   "metadata": {},
   "outputs": [
    {
     "data": {
      "text/plain": [
       "(2.2045115656451157, 2.2045115656451157)"
      ]
     },
     "execution_count": 28,
     "metadata": {},
     "output_type": "execute_result"
    }
   ],
   "source": [
    "sample = np.random.choice(a = population, size = 2000)\n",
    "ci = compute_ci(sample, st_dev)\n",
    "ci"
   ]
  },
  {
   "cell_type": "code",
   "execution_count": 34,
   "metadata": {},
   "outputs": [],
   "source": [
    "def compute_ci_t(sample, alpha = 0.95):\n",
    "    n = sample.shape[0]\n",
    "    mu, se = np.mean(sample), stats.sem(sample)\n",
    "    bound = se * stats.t.ppf((1 + alpha) / 2., n-1)\n",
    "    \n",
    "    return mu-bound, mu + bound"
   ]
  },
  {
   "cell_type": "code",
   "execution_count": 35,
   "metadata": {},
   "outputs": [
    {
     "data": {
      "text/plain": [
       "(0.09085570029471324, 4.350136163178687)"
      ]
     },
     "execution_count": 35,
     "metadata": {},
     "output_type": "execute_result"
    }
   ],
   "source": [
    "sample = np.random.choice(a = population, size = 30)\n",
    "ci_t = compute_ci_t(sample, alpha = 0.95)\n",
    "ci_t"
   ]
  },
  {
   "cell_type": "code",
   "execution_count": 38,
   "metadata": {},
   "outputs": [],
   "source": [
    "def generate_distribution_sample(data, sample_size, dist_size):\n",
    "    sample_means = []\n",
    "    for i in tqdm(range(dist_size)):\n",
    "        sample = np.random.choice(a = population, size = sample_size)\n",
    "        sample_means.append(np.mean(sample))\n",
    "    \n",
    "    return sample_means"
   ]
  },
  {
   "cell_type": "code",
   "execution_count": null,
   "metadata": {},
   "outputs": [],
   "source": [
    "sample_size = 10000\n",
    "dist_size = 50000\n",
    "taxi_mex = pd.read_csv('taxi_mex_dist')"
   ]
  },
  {
   "cell_type": "code",
   "execution_count": null,
   "metadata": {},
   "outputs": [],
   "source": [
    "sample_means = generate_distribution_sample(taxi_mex['dist_meters']/1000, sample_size, dist_size)"
   ]
  },
  {
   "cell_type": "code",
   "execution_count": null,
   "metadata": {},
   "outputs": [],
   "source": [
    "plt.hist(sample_means, bins = 100)\n",
    "plt.xlabel('distance in km')"
   ]
  },
  {
   "cell_type": "code",
   "execution_count": null,
   "metadata": {},
   "outputs": [],
   "source": [
    "np.sort(sample_means)\n",
    "lb = np.percentile(sample_means, 97.5)\n",
    "ub = np.percentile(sample_means, 2.5)\n",
    "print(lb, ub)"
   ]
  }
 ],
 "metadata": {
  "kernelspec": {
   "display_name": "Python 3",
   "language": "python",
   "name": "python3"
  },
  "language_info": {
   "codemirror_mode": {
    "name": "ipython",
    "version": 3
   },
   "file_extension": ".py",
   "mimetype": "text/x-python",
   "name": "python",
   "nbconvert_exporter": "python",
   "pygments_lexer": "ipython3",
   "version": "3.7.6"
  }
 },
 "nbformat": 4,
 "nbformat_minor": 4
}
